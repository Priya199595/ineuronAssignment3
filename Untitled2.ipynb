{
  "nbformat": 4,
  "nbformat_minor": 0,
  "metadata": {
    "colab": {
      "provenance": [],
      "authorship_tag": "ABX9TyMFqBUxN3YzGB6h8pDHQmRb",
      "include_colab_link": true
    },
    "kernelspec": {
      "name": "python3",
      "display_name": "Python 3"
    },
    "language_info": {
      "name": "python"
    }
  },
  "cells": [
    {
      "cell_type": "markdown",
      "metadata": {
        "id": "view-in-github",
        "colab_type": "text"
      },
      "source": [
        "<a href=\"https://colab.research.google.com/github/Priya199595/ineuronAssignment3/blob/main/Untitled2.ipynb\" target=\"_parent\"><img src=\"https://colab.research.google.com/assets/colab-badge.svg\" alt=\"Open In Colab\"/></a>"
      ]
    },
    {
      "cell_type": "markdown",
      "source": [
        "1.   Why are functions advantageous to have in your programs?\n",
        "\n",
        "Ans.  Functions make the program shorter, easier to update, easier to read, and also reduces the need for duplicate code.\n",
        "\n",
        "\n",
        "2.   When does the code in a function run: when it is specified or when it is called?\n",
        "\n",
        "Ans. Code in a function runs when it is called.\n",
        "\n",
        "\n",
        "3.   What statement creates a function?\n",
        "\n",
        "Ans. The def(defines) or creates a function.\n",
        "\n",
        "\n",
        "4.  What is the difference between a function and a function call?\n",
        "\n",
        "Ans. A function has a def a def statement and a code in it's clause, whereas when function is called all the codes inside the function is executed and the control of the program goes to the def function and  the function call evaluates to the function's return value."
      ],
      "metadata": {
        "id": "jr06nqMRo8Bw"
      }
    },
    {
      "cell_type": "code",
      "source": [
        "#Eg of fuction\n",
        "def greet():\n",
        "  print(\"Hello Kitty\")\n",
        "\n",
        "  #Calling a function\n",
        "greet()"
      ],
      "metadata": {
        "colab": {
          "base_uri": "https://localhost:8080/"
        },
        "id": "NhNSXfLWzpFG",
        "outputId": "f6299a5c-8c94-47d6-d2eb-84d328491c78"
      },
      "execution_count": 2,
      "outputs": [
        {
          "output_type": "stream",
          "name": "stdout",
          "text": [
            "Hello Kitty\n"
          ]
        }
      ]
    },
    {
      "cell_type": "markdown",
      "source": [
        "5.   How many global scopes are there in a Python program? How many local scopes?\n",
        "\n",
        "Ans.  There is only one global Python scope per program execution. This scope remains in existence till the program terminates , whereas a local scope is created whenever a function is called.\n",
        "\n",
        "\n",
        "6.   What happens to variables in a local scope when the function call returns?\n",
        "\n",
        "Ans. Whenever function call returns local scope gets destroyed.\n",
        "\n",
        "\n",
        "7.  What is the concept of a return value? Is it possible to have a return value in an expression?\n",
        "\n",
        "Ans. Like any other value, value return can be used as a part of the expression, and it is also a value that a function evaluates to.\n",
        "\n",
        "\n",
        "8.  If a function does not have a return statement, what is the return value of a call to that function?\n",
        "\n",
        "Ans.  If a function does not have a return statement it will not return anything.\n",
        "\n",
        "\n",
        "9.  How do you make a function variable refer to the global variable?\n",
        "\n",
        "Ans. To make a function variable refer to global variable we can make use of global keyword to declare which variables are global.\n",
        "\n",
        "\n",
        "10.  What is the data type of None?\n",
        "\n",
        "Ans. It is NoneType.\n",
        "\n",
        "11.  What does the sentence import areallyourpetsnamederic do?\n",
        "\n",
        "Ans.  That import statement imports a module named areallyourpetsnamederic,But a module of this name does not  exist in Python.\n",
        "\n",
        "12. If you had a bacon() feature in a spam module, what would you call it after importing spam?\n",
        "\n",
        "Ans.The function would be called as spam.bacon()\n",
        "\n",
        "13. What can you do to save a programme from crashing if it encounters an error?\n",
        "\n",
        "Ans. We have to use try except clause to save a program from crashing.\n",
        "\n",
        "14. What is the purpose of the try clause? What is the purpose of the except clause?\n",
        "\n",
        "Ans. The try clause will help you test a block of code for errors. The except clause lets you handle the errors.\n",
        "\n"
      ],
      "metadata": {
        "id": "YgtQ5f0xtrmG"
      }
    },
    {
      "cell_type": "code",
      "source": [
        "try:                                    # try block\n",
        "  numerator = 10\n",
        "  denominator = 0\n",
        "\n",
        "  result = numerator/denominator\n",
        "\n",
        "  print(result)\n",
        "except:                                     #except block\n",
        "    print(\"Error: Denominator cannot be zero\")"
      ],
      "metadata": {
        "colab": {
          "base_uri": "https://localhost:8080/"
        },
        "id": "5tLK5vtDz2In",
        "outputId": "e07fbc4f-f37a-4631-e93b-7a7d38f89a43"
      },
      "execution_count": 4,
      "outputs": [
        {
          "output_type": "stream",
          "name": "stdout",
          "text": [
            "Error: Denominator cannot be zero\n"
          ]
        }
      ]
    },
    {
      "cell_type": "code",
      "source": [],
      "metadata": {
        "id": "vm7lxeVqzvGC"
      },
      "execution_count": null,
      "outputs": []
    }
  ]
}